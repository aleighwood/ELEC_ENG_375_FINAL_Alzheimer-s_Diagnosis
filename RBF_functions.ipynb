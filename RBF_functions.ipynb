{
 "cells": [
  {
   "cell_type": "code",
   "execution_count": 2,
   "id": "83fa5a2c-1159-40af-b5c2-5aa677765fc6",
   "metadata": {
    "editable": true,
    "slideshow": {
     "slide_type": ""
    },
    "tags": []
   },
   "outputs": [],
   "source": [
    "def RBF_matrix(x,beta):\n",
    "    P = np.shape(x[1])\n",
    "    H = np.zeros(P)\n",
    "    x = x.T\n",
    "    distances = np.linalg.norm(x[:,np.newaxis]- x, axis =2)**2\n",
    "    H = np.exp(-beta * distances)\n",
    "    return H\n",
    "\n",
    "def make_H_RBF_valid(x_train,x_valid,beta):\n",
    "    col = np.shape(x_valid)[1]\n",
    "    row = np.shape(x_train)[1]\n",
    "    H_valid = np.zeros((row,col))\n",
    "    for i in range(col):\n",
    "        for j in range(row):\n",
    "            dist = np.linalg.norm(x_valid[:,i] - x_train[:,j])\n",
    "            H_valid[j,i] = np.exp(-beta*dist**2)\n",
    "    #H: P_train x P_valid\n",
    "    return H_valid"
   ]
  }
 ],
 "metadata": {
  "kernelspec": {
   "display_name": "Python 3 (ipykernel)",
   "language": "python",
   "name": "python3"
  },
  "language_info": {
   "codemirror_mode": {
    "name": "ipython",
    "version": 3
   },
   "file_extension": ".py",
   "mimetype": "text/x-python",
   "name": "python",
   "nbconvert_exporter": "python",
   "pygments_lexer": "ipython3",
   "version": "3.11.4"
  },
  "widgets": {
   "application/vnd.jupyter.widget-state+json": {
    "state": {},
    "version_major": 2,
    "version_minor": 0
   }
  }
 },
 "nbformat": 4,
 "nbformat_minor": 5
}
